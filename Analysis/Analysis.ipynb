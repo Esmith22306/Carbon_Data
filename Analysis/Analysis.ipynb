{
 "cells": [
  {
   "cell_type": "markdown",
   "id": "07456027",
   "metadata": {},
   "source": [
    "# C02 Emmisions Analysis \n",
    "\n",
    "# Introduction\n",
    "\n",
    "This report analyzes carbon emissions data from Kaggle. We'll answer two key questions:\n",
    "\n",
    "1. **How have global CO₂ emissions changed over time?**\n",
    "2. **What are the top 10 CO₂ emitting countries in the most recent year?**\n",
    "\n",
    "We'll use Python, pandas, seaborn, and matplotlib to explore the dataset and generate visualizations to support our conclusions.\n",
    "\n",
    "# Load the Data"
   ]
  },
  {
   "cell_type": "code",
   "execution_count": 1,
   "id": "1dcd7eed",
   "metadata": {},
   "outputs": [
    {
     "name": "stdout",
     "output_type": "stream",
     "text": [
      "<class 'pandas.core.frame.DataFrame'>\n",
      "RangeIndex: 5677 entries, 0 to 5676\n",
      "Data columns (total 5 columns):\n",
      " #   Column                  Non-Null Count  Dtype  \n",
      "---  ------                  --------------  -----  \n",
      " 0   Country                 5677 non-null   object \n",
      " 1   Region                  5677 non-null   object \n",
      " 2   Date                    5677 non-null   object \n",
      " 3   Kilotons of Co2         5677 non-null   float64\n",
      " 4   Metric Tons Per Capita  5677 non-null   float64\n",
      "dtypes: float64(2), object(3)\n",
      "memory usage: 221.9+ KB\n"
     ]
    },
    {
     "data": {
      "text/plain": [
       "Country                   0\n",
       "Region                    0\n",
       "Date                      0\n",
       "Kilotons of Co2           0\n",
       "Metric Tons Per Capita    0\n",
       "dtype: int64"
      ]
     },
     "execution_count": 1,
     "metadata": {},
     "output_type": "execute_result"
    }
   ],
   "source": [
    "\n",
    "import pandas as pd\n",
    "import matplotlib.pyplot as plt\n",
    "import seaborn as sns\n",
    "\n",
    "\n",
    "# Load dataset\n",
    "df = pd.read_csv('C02.csv')\n",
    "\n",
    "# Quick overview\n",
    "df.head()\n",
    "\n",
    "# Check data types and missing values\n",
    "df.info()\n",
    "df.isnull().sum()"
   ]
  },
  {
   "cell_type": "markdown",
   "id": "568727af",
   "metadata": {},
   "source": [
    "# Q1: How Have Global CO₂ Emissions Changed Over Time?"
   ]
  },
  {
   "cell_type": "code",
   "execution_count": 2,
   "id": "ddde7766",
   "metadata": {},
   "outputs": [
    {
     "data": {
      "image/png": "[encoded data removed]",
      "text/plain": [
       "<Figure size 640x480 with 1 Axes>"
      ]
     },
     "metadata": {},
     "output_type": "display_data"
    }
   ],
   "source": [
    "# Clean date column\n",
    "df['Date'] = pd.to_numeric(df['Date'], errors='coerce')\n",
    "df = df.dropna(subset=['Date'])\n",
    "df['Date'] = df['Date'].astype(int)\n",
    "\n",
    "# Q1: Global emissions trend\n",
    "global_trend = df.groupby('Date')['Kilotons of Co2'].sum().reset_index()\n",
    "sns.lineplot(data=global_trend, x='Date', y='Kilotons of Co2')\n",
    "plt.title('Global CO₂ Emissions Over Time')\n",
    "plt.xlabel('Year')\n",
    "plt.ylabel('Kilotons of CO₂')\n",
    "plt.show()\n"
   ]
  }
 ],
 "metadata": {
  "kernelspec": {
   "display_name": "Python 3",
   "language": "python",
   "name": "python3"
  },
  "language_info": {
   "codemirror_mode": {
    "name": "ipython",
    "version": 3
   },
   "file_extension": ".py",
   "mimetype": "text/x-python",
   "name": "python",
   "nbconvert_exporter": "python",
   "pygments_lexer": "ipython3",
   "version": "3.11.9"
  }
 },
 "nbformat": 4,
 "nbformat_minor": 5
}
