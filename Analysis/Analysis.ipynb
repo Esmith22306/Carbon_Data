{
 "cells": [
  {
   "cell_type": "markdown",
   "id": "07456027",
   "metadata": {},
   "source": [
    "# C02 Emmisions Analysis \n",
    "\n",
    "# Introduction\n",
    "\n",
    "This report analyzes carbon emissions data from Kaggle. We'll answer two questions...\n",
    "\n",
    "# Load the Data"
   ]
  },
  {
   "cell_type": "code",
   "execution_count": null,
   "id": "1dcd7eed",
   "metadata": {},
   "outputs": [],
   "source": [
    "```{python}\n",
    "import pandas as pd\n",
    "import matplotlib.pyplot as plt\n",
    "import seaborn as sns\n",
    "\n",
    "df = pd.read_csv(\"data/CO2.csv\")\n",
    "df.head()"
   ]
  }
 ],
 "metadata": {
  "language_info": {
   "name": "python"
  }
 },
 "nbformat": 4,
 "nbformat_minor": 5
}
